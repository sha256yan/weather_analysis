{
 "cells": [
  {
   "cell_type": "code",
   "execution_count": 4,
   "id": "2aabc147",
   "metadata": {},
   "outputs": [],
   "source": [
    "from DataFrame import PriceDemand, Cities\n",
    "from Series import Speed, Direction\n",
    "from config import COLUMNS\n",
    "from Time import Hours, Date, DateTime\n",
    "\n",
    "import pandas as pd\n",
    "import numpy as np\n",
    "import seaborn as sns\n",
    "from sklearn.preprocessing import MinMaxScaler, StandardScaler\n",
    "from datetime import timedelta, date\n",
    "import math\n",
    "from random import random"
   ]
  },
  {
   "cell_type": "code",
   "execution_count": 5,
   "id": "c5e6345b",
   "metadata": {},
   "outputs": [],
   "source": [
    "def nan_counter(series):\n",
    "    return (series.isna().sum()) / len(series)\n",
    "\n",
    "def fake_evaporation(index):\n",
    "    \n",
    "    PROB_NEGATIVE = 0.5\n",
    "    PROB_LARGE_RANDOM = 0.01\n",
    "    LARGE_MAGNITUDE = 2\n",
    "    NOISE_MAGNITUDE = 0.9\n",
    "    ANGULAR_FREQ = (2*np.pi/350)\n",
    "    Y_CONSTANT = + 3.5\n",
    "    \n",
    "    random_sign = random()\n",
    "    if(random_sign > PROB_NEGATIVE):\n",
    "        random_sign = -1\n",
    "    else:\n",
    "        random_sign = 1\n",
    "        \n",
    "    oscillating_term = (np.cos(ANGULAR_FREQ * index)/2 + Y_CONSTANT)\n",
    "    noise = (random() * NOISE_MAGNITUDE) * random_sign\n",
    "    final_val = oscillating_term + noise\n",
    "    \n",
    "    large_noise = random()\n",
    "    if(large_noise > 1 - PROB_LARGE_RANDOM):\n",
    "        final_val += large_noise * LARGE_MAGNITUDE * random_sign\n",
    "        \n",
    "        \n",
    "    return final_val"
   ]
  },
  {
   "cell_type": "code",
   "execution_count": 6,
   "id": "4e3727a1",
   "metadata": {},
   "outputs": [],
   "source": [
    "cities = Cities()\n",
    "price_df = PriceDemand()\n",
    "joined_df = cities.df.join_price(price_df.get_grouped())"
   ]
  },
  {
   "cell_type": "code",
   "execution_count": null,
   "id": "44383adc",
   "metadata": {},
   "outputs": [],
   "source": [
    "\"\"\"\n",
    "    Plots of minmax normalised columns of the weather dataset within related groups (as per COLUMNS)\n",
    "\"\"\"\n",
    "\n",
    "min_max = MinMaxScaler()\n",
    "temp_df = pd.DataFrame(min_max.fit_transform(cities_df.iloc[:, 2:]))\n",
    "temp_df.columns = cities_df.columns[2:]\n",
    "normalised_df = pd.concat([cities_df[\"REGION\"], temp_df], axis=1)\n",
    "\n",
    "[sns.pairplot(normalised_df[cols]) for cols in COLUMNS]"
   ]
  },
  {
   "cell_type": "code",
   "execution_count": null,
   "id": "4a75d0a9",
   "metadata": {},
   "outputs": [],
   "source": [
    "\"\"\"\n",
    "    Rainfall plotted with a logarithmic y scale \n",
    "\"\"\"\n",
    "rainfall_logscale = np.log(cities_df[\"Rainfall (mm)\"].sort_values(ascending=False).loc[cities_df[\"Rainfall (mm)\"] > 0])\n",
    "sns.scatterplot(x=rainfall_logscale.index, y=rainfall_logscale)"
   ]
  },
  {
   "cell_type": "code",
   "execution_count": null,
   "id": "0d6776d1",
   "metadata": {},
   "outputs": [],
   "source": [
    "\"\"\"\n",
    "    Evaporation plotted with a logarithmic y scale\n",
    "\"\"\"\n",
    "evap_logscale = np.log(cities_df[\"Evaporation (mm)\"].sort_values(ascending=False).loc[cities_df[\"Evaporation (mm)\"] > 0])\n",
    "sns.scatterplot(x=evap_logscale.index, y=evap_logscale)"
   ]
  },
  {
   "cell_type": "code",
   "execution_count": null,
   "id": "601fce30",
   "metadata": {},
   "outputs": [],
   "source": [
    "\"\"\"\n",
    "    Evaporation plotted with a logarithmic y scale\n",
    "\"\"\"\n",
    "evap_logscale = np.log((cities_df[\"Evaporation (mm)\"] * 10).sort_values(ascending=False).loc[cities_df[\"Evaporation (mm)\"] > 0])\n",
    "sns.scatterplot(x=evap_logscale.index, y=evap_logscale)\n",
    "\n",
    "evap_fake_vals = [fake_evaporation(t) for t in range(800)]\n",
    "sns.scatterplot(x=range(800), y=evap_fake_vals)"
   ]
  },
  {
   "cell_type": "code",
   "execution_count": null,
   "id": "6de3d230",
   "metadata": {},
   "outputs": [],
   "source": [
    "from Time import Hours\n",
    "Hours(price_df[price_df[\"PRICESURGE\"]][\"SETTLEMENTDATE\"].apply(lambda stamp: f\"{stamp.hour}:{stamp.minute}:{stamp.second}\")).seconds_from_midnight()"
   ]
  },
  {
   "cell_type": "code",
   "execution_count": null,
   "id": "da486ecf",
   "metadata": {},
   "outputs": [],
   "source": [
    "cities.df"
   ]
  }
 ],
 "metadata": {
  "kernelspec": {
   "display_name": "Python 3 (ipykernel)",
   "language": "python",
   "name": "python3"
  },
  "language_info": {
   "codemirror_mode": {
    "name": "ipython",
    "version": 3
   },
   "file_extension": ".py",
   "mimetype": "text/x-python",
   "name": "python",
   "nbconvert_exporter": "python",
   "pygments_lexer": "ipython3",
   "version": "3.10.0"
  }
 },
 "nbformat": 4,
 "nbformat_minor": 5
}
