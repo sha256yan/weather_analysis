{
 "cells": [
  {
   "cell_type": "code",
   "execution_count": null,
   "id": "2aabc147",
   "metadata": {},
   "outputs": [],
   "source": [
    "import pandas as pd\n",
    "import matplotlib.pyplot as plt\n",
    "from datetime import date, datetime, time, timedelta\n",
    "import os\n",
    "import numpy as np\n",
    "import re\n",
    "import statistics\n",
    "from classes import Speed, Direction\n",
    "from Time import Hours, Date, DateTime"
   ]
  },
  {
   "cell_type": "code",
   "execution_count": null,
   "id": "ead0fbc4",
   "metadata": {},
   "outputs": [],
   "source": [
    "WEATHER_DIR = \"./weather/\"\n",
    "CITY_SUFFIXES = [\"_melbourne\", \"_sydney\", \"_adelaide\", \"_brisbane\"]\n",
    "CITY_DIRS = [WEATHER_DIR + \"weather\" + suffix + \".csv\" for suffix in CITY_SUFFIXES]\n",
    "\n",
    "#loads city weather dfs\n",
    "mel, syd, adl, brs = [pd.read_csv(city_dir) for city_dir in CITY_DIRS]\n",
    "\n",
    "\n",
    "#loads price df\n",
    "price_demand = pd.read_csv(WEATHER_DIR + 'price_demand_data.csv')\n"
   ]
  },
  {
   "cell_type": "code",
   "execution_count": null,
   "id": "80fce55e",
   "metadata": {},
   "outputs": [],
   "source": [
    "directions = [Direction(mel[series]).process() for series in direction_columns]\n",
    "speeds = [Speed(mel[series]).process() for series in speed_columns]\n",
    "\n",
    "unprocessed = [[mel[col] for col in cols] for cols in [pressure_columns, temp_columns, humidity_columns, mm_columns, oktas_columns]]\n",
    "cols_to_plot = [directions, speeds, [Hours(mel[\"Time of maximum wind gust\"]).seconds_from_midnight()],*unprocessed]"
   ]
  },
  {
   "cell_type": "code",
   "execution_count": null,
   "id": "dfdee9a9",
   "metadata": {},
   "outputs": [],
   "source": [
    "num_rows = 4\n",
    "num_cols = 2\n",
    "\n",
    "time_differences = Date(mel[\"Date\"]).days_from_first()"
   ]
  },
  {
   "cell_type": "code",
   "execution_count": null,
   "id": "8fbacf39",
   "metadata": {},
   "outputs": [],
   "source": [
    "\"\"\"\n",
    "fig, ax = plt.subplots(num_rows, num_cols, figsize=(16,16))\n",
    "#excludes date field\n",
    "\n",
    "count = 0\n",
    "for i in range(0,num_rows):\n",
    "    for j in range(num_cols):\n",
    "        \n",
    "        [ax[i,j].plot(time_differences.iloc[series.index], series) for series in cols_to_plot[count]]\n",
    "        ax[i,j].legend([col.name for col in cols_to_plot[count]])\n",
    "        count += 1\n",
    "        if(count == len(cols_to_plot)):\n",
    "            break\n",
    "    if(count == len(cols_to_plot)):\n",
    "        break\n",
    "\"\"\""
   ]
  }
 ],
 "metadata": {
  "kernelspec": {
   "display_name": "Python 3 (ipykernel)",
   "language": "python",
   "name": "python3"
  },
  "language_info": {
   "codemirror_mode": {
    "name": "ipython",
    "version": 3
   },
   "file_extension": ".py",
   "mimetype": "text/x-python",
   "name": "python",
   "nbconvert_exporter": "python",
   "pygments_lexer": "ipython3",
   "version": "3.10.0"
  }
 },
 "nbformat": 4,
 "nbformat_minor": 5
}
