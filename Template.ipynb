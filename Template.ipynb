{
 "cells": [
  {
   "cell_type": "code",
   "execution_count": 1,
   "id": "af9e47f5",
   "metadata": {},
   "outputs": [],
   "source": [
    "import pandas as pd\n",
    "import matplotlib.pyplot as plt\n",
    "from datetime import date, datetime, time, timedelta\n",
    "import os\n",
    "import numpy as np\n",
    "import re\n",
    "import statistics\n",
    "from classes import Speed, Direction\n",
    "from Time import Hours, Years, DateTime"
   ]
  },
  {
   "cell_type": "code",
   "execution_count": 2,
   "id": "907deea8",
   "metadata": {},
   "outputs": [],
   "source": [
    "WEATHER_DIR = \"./weather/\"\n",
    "CITY_SUFFIXES = [\"_melbourne\", \"_sydney\", \"_adelaide\", \"_brisbane\"]\n",
    "CITY_DIRS = [WEATHER_DIR + \"weather\" + suffix + \".csv\" for suffix in CITY_SUFFIXES]\n",
    "\n",
    "#loads city weather dfs\n",
    "mel, syd, adl, brs = [pd.read_csv(city_dir) for city_dir in CITY_DIRS]\n",
    "\n",
    "\n",
    "#loads price df\n",
    "price_demand = pd.read_csv(WEATHER_DIR + 'price_demand_data.csv')\n"
   ]
  },
  {
   "cell_type": "code",
   "execution_count": 3,
   "id": "47b8733a",
   "metadata": {},
   "outputs": [],
   "source": [
    "\n",
    "#these dont have number values . N, NW, SSE etc...\n",
    "direction_columns = [\n",
    "    \"Direction of maximum wind gust \",\n",
    "    \"9am wind direction\",\n",
    "    \"3pm wind direction\"\n",
    "]\n",
    "\n",
    "speed_columns = [\n",
    "    \"Speed of maximum wind gust (km/h)\",\n",
    "    \"9am wind speed (km/h)\",\n",
    "    \"3pm wind speed (km/h)\"\n",
    "]\n",
    "\n",
    "pressure_columns = [\n",
    "    \"9am MSL pressure (hPa)\",\n",
    "    \"3pm MSL pressure (hPa)\"\n",
    "]\n",
    "\n",
    "temp_columns = [\n",
    "    \"Minimum temperature (°C)\",\n",
    "    \"Maximum temperature (°C)\",\n",
    "    \"9am Temperature (°C)\",\n",
    "    \"3pm Temperature (°C)\"\n",
    "]\n",
    "\n",
    "humidity_columns = [\n",
    "    \"9am relative humidity (%)\",\n",
    "    \"3pm relative humidity (%)\"\n",
    "]\n",
    "\n",
    "mm_columns = [\n",
    "    \"Rainfall (mm)\",\n",
    "    \"Evaporation (mm)\"\n",
    "]\n",
    "\n",
    "oktas_columns = [\n",
    "    \"9am cloud amount (oktas)\",\n",
    "    \"3pm cloud amount (oktas)\"\n",
    "]\n",
    "\n"
   ]
  },
  {
   "cell_type": "code",
   "execution_count": 6,
   "id": "b12079b4",
   "metadata": {},
   "outputs": [
    {
     "name": "stdout",
     "output_type": "stream",
     "text": [
      "94     00:01:00\n",
      "144    00:05:00\n",
      "233    00:07:00\n",
      "203    00:12:00\n",
      "287    00:31:00\n",
      "         ...   \n",
      "128    23:47:00\n",
      "296    23:49:00\n",
      "156        None\n",
      "157        None\n",
      "423        None\n",
      "Name: Time of maximum wind gust, Length: 424, dtype: object\n"
     ]
    }
   ],
   "source": [
    "directions = [Direction(mel[series]).process() for series in direction_columns]\n",
    "speeds = [Speed(mel[series]).process() for series in speed_columns]\n",
    "\n",
    "unprocessed = [[mel[col] for col in cols] for cols in [pressure_columns, temp_columns, humidity_columns, mm_columns, oktas_columns]]\n",
    "cols_to_plot = [directions, speeds, [Hours(mel[\"Time of maximum wind gust\"]).seconds_from_midnight()],*unprocessed]"
   ]
  },
  {
   "cell_type": "code",
   "execution_count": 10,
   "id": "8d816405",
   "metadata": {},
   "outputs": [],
   "source": [
    "num_rows = 4\n",
    "num_cols = 2\n",
    "\n",
    "time_differences = Years(mel[\"Date\"]).days_from_first()"
   ]
  },
  {
   "cell_type": "code",
   "execution_count": 11,
   "id": "ed5510c0",
   "metadata": {},
   "outputs": [
    {
     "data": {
      "text/plain": [
       "'\\nfig, ax = plt.subplots(num_rows, num_cols, figsize=(16,16))\\n#excludes date field\\n\\ncount = 0\\nfor i in range(0,num_rows):\\n    for j in range(num_cols):\\n        \\n        [ax[i,j].plot(time_differences.iloc[series.index], series) for series in cols_to_plot[count]]\\n        ax[i,j].legend([col.name for col in cols_to_plot[count]])\\n        count += 1\\n        if(count == len(cols_to_plot)):\\n            break\\n    if(count == len(cols_to_plot)):\\n        break\\n'"
      ]
     },
     "execution_count": 11,
     "metadata": {},
     "output_type": "execute_result"
    }
   ],
   "source": [
    "\"\"\"\n",
    "fig, ax = plt.subplots(num_rows, num_cols, figsize=(16,16))\n",
    "#excludes date field\n",
    "\n",
    "count = 0\n",
    "for i in range(0,num_rows):\n",
    "    for j in range(num_cols):\n",
    "        \n",
    "        [ax[i,j].plot(time_differences.iloc[series.index], series) for series in cols_to_plot[count]]\n",
    "        ax[i,j].legend([col.name for col in cols_to_plot[count]])\n",
    "        count += 1\n",
    "        if(count == len(cols_to_plot)):\n",
    "            break\n",
    "    if(count == len(cols_to_plot)):\n",
    "        break\n",
    "\"\"\""
   ]
  },
  {
   "cell_type": "code",
   "execution_count": null,
   "id": "7c61050c",
   "metadata": {},
   "outputs": [],
   "source": []
  },
  {
   "cell_type": "code",
   "execution_count": null,
   "id": "5609dbb2",
   "metadata": {},
   "outputs": [],
   "source": []
  },
  {
   "cell_type": "code",
   "execution_count": null,
   "id": "93dcf85e",
   "metadata": {},
   "outputs": [],
   "source": []
  },
  {
   "cell_type": "code",
   "execution_count": null,
   "id": "c0c758f1",
   "metadata": {},
   "outputs": [],
   "source": []
  }
 ],
 "metadata": {
  "kernelspec": {
   "display_name": "Python 3 (ipykernel)",
   "language": "python",
   "name": "python3"
  },
  "language_info": {
   "codemirror_mode": {
    "name": "ipython",
    "version": 3
   },
   "file_extension": ".py",
   "mimetype": "text/x-python",
   "name": "python",
   "nbconvert_exporter": "python",
   "pygments_lexer": "ipython3",
   "version": "3.10.0"
  }
 },
 "nbformat": 4,
 "nbformat_minor": 5
}
