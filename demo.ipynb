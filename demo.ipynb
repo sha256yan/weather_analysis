{
 "cells": [
  {
   "cell_type": "code",
   "execution_count": 1,
   "id": "af9e47f5",
   "metadata": {},
   "outputs": [],
   "source": [
    "from Series import Speed, Direction\n",
    "from Time import Hours, Date, DateTime\n",
    "from DataFrame import PriceDemand, Cities, City, DataFrame\n",
    "from config import COLUMNS\n",
    "\n",
    "WEATHER_DIR = \"./weather/\"\n",
    "\n",
    "import math\n",
    "import pandas as pd\n",
    "from datetime import date, datetime, time, timedelta\n",
    "import seaborn as sns\n",
    "from sklearn.preprocessing import MinMaxScaler, StandardScaler\n",
    "import numpy as np"
   ]
  },
  {
   "cell_type": "code",
   "execution_count": 55,
   "id": "16dcabde",
   "metadata": {},
   "outputs": [],
   "source": [
    "class Cities():\n",
    "    def __init__(self):\n",
    "        self.df = CitiesDataFrame()\n",
    "        self.fake_values = pd.Series(dtype='object')\n",
    "    \n",
    "    def mean_fill_nans(self, columns):\n",
    "        current_fakes = self.df.fill_nans(columns)\n",
    "        self.fake_values = pd.concat([self.fake_values, *current_fakes])\n",
    "    \n",
    "    def get_fake_values(self, column):\n",
    "        fake_value_indexes = self.fake_values.loc[self.fake_values == column].index\n",
    "        return self.df.loc[fake_value_indexes][column]\n",
    "        \n",
    "        \n",
    "\n",
    "class CitiesDataFrame(DataFrame):\n",
    "    \"\"\"\n",
    "        Container all of the cities' weather data.\n",
    "    \"\"\"\n",
    "    \n",
    "    @staticmethod\n",
    "    def get_all_cities():\n",
    "        \"\"\"\n",
    "            Loads all city weather dataframes and returns an array containing (city_df, state_code) tuples.\n",
    "            i.e [ (city1, statecode1), (city2, statecode2) ... ]\n",
    "        \"\"\"\n",
    "        CITY_SUFFIXES = [\"_melbourne\", \"_sydney\", \"_adelaide\", \"_brisbane\"]\n",
    "        STATE_CODES = [\"VIC1\", \"NSW1\", \"SA1\", \"QLD1\"]\n",
    "        CITY_DIRS = [WEATHER_DIR + \"weather\" + suffix + \".csv\" for suffix in CITY_SUFFIXES]\n",
    "        cities = []\n",
    "        for i in range(len(CITY_DIRS)):\n",
    "            #[(df, statecode), (df, statecode)]\n",
    "            cities.append((pd.read_csv(CITY_DIRS[i]), STATE_CODES[i]))    \n",
    "        return cities\n",
    "    \n",
    "    \n",
    "    def process_df(self, *args):\n",
    "        cities_dataframes = CitiesDataFrame.get_all_cities()\n",
    "        City_array = [City(*city) for city in cities_dataframes]\n",
    "        Cities_dataframe = pd.concat(City_array, axis=0).reset_index()\n",
    "        return Cities_dataframe\n",
    "    \n",
    "\n",
    "\n",
    "    def join_price(self, grouped_price_demand):\n",
    "        #returns a new df which is the join of cities and price demand\n",
    "        return self.join(grouped_price_demand, on=[\"REGION\", \"Date\"], how='right')\n",
    "    \n",
    "    \n",
    "    \n",
    "    def nan_processor(self, nan_region, nan_date, column):\n",
    "    \n",
    "        region = self.loc[self[\"REGION\"] == nan_region]\n",
    "        lower_bound = nan_date - timedelta(days=10)\n",
    "        upper_bound = nan_date + timedelta(days=10)\n",
    "        fill_value = region.loc[(region[\"Date\"] > lower_bound) & (region[\"Date\"] < upper_bound)][column].mean()\n",
    "\n",
    "        if(math.isnan(fill_value)):\n",
    "            fill_value = self.loc[(self[\"Date\"] > lower_bound) & (self[\"Date\"] < upper_bound)][column].mean()\n",
    "        return fill_value\n",
    "\n",
    "    \n",
    "    def fill_nans(self, cols):\n",
    "        current_fakes = []\n",
    "        for col in cols:\n",
    "            nans = self.loc[self[col].isna()][[\"REGION\", \"Date\"]]\n",
    "            nans_filled = nans.transpose().apply(lambda region_and_date: self.nan_processor(*region_and_date, col))\n",
    "\n",
    "\n",
    "            if nans_filled.index.size > 2:\n",
    "                current_fakes.append(pd.Series(data=col, index=nans_filled.index))\n",
    "                self.loc[nans_filled.index, col] = nans_filled\n",
    "        return current_fakes\n",
    "                "
   ]
  },
  {
   "cell_type": "markdown",
   "id": "438dc2fe",
   "metadata": {},
   "source": [
    "price surge for one day\n",
    "price surge for 9am and 3pm seperately \n",
    "\n",
    "price_surge_score_3pm = for all price surges in that day, take sum(1 / | time of surge - 3pm | )\n",
    "\n",
    "\n",
    "fake_value_lookup = {\"Evaporation\" : [row_index1, row_index2, ... ]}\n",
    "\n",
    "testing correlations between features\n",
    "\n",
    "\n",
    "test correlation of features with a label \n",
    "\n",
    "\n",
    "1) process features, normalise, fill missing etc..\n",
    "\n",
    "2) test different approaches for choosing a label\n",
    "\n",
    "\n",
    "\n"
   ]
  },
  {
   "cell_type": "code",
   "execution_count": 56,
   "id": "51c4e284",
   "metadata": {},
   "outputs": [],
   "source": [
    "cities = Cities()"
   ]
  },
  {
   "cell_type": "code",
   "execution_count": 57,
   "id": "84bf2501",
   "metadata": {},
   "outputs": [],
   "source": [
    "cities.mean_fill_nans([\"Time of maximum wind gust\", \"Speed of maximum wind gust (km/h)\"])"
   ]
  },
  {
   "cell_type": "code",
   "execution_count": 59,
   "id": "5c2093b0",
   "metadata": {},
   "outputs": [
    {
     "data": {
      "text/plain": [
       "156     42765.882353\n",
       "157     41809.411765\n",
       "423     49053.333333\n",
       "605     52056.666667\n",
       "650     47685.000000\n",
       "651     48446.250000\n",
       "652     48536.250000\n",
       "706     55380.000000\n",
       "817     51303.333333\n",
       "847     46480.000000\n",
       "854     51452.000000\n",
       "890     53853.333333\n",
       "913     53813.333333\n",
       "1019    42638.823529\n",
       "1020    41265.882353\n",
       "1104    47853.333333\n",
       "1223    43500.000000\n",
       "1271    59226.666667\n",
       "1404    41516.666667\n",
       "1453    48854.117647\n",
       "1459    52867.058824\n",
       "1478    52775.294118\n",
       "1479    53647.058824\n",
       "1505    51582.352941\n",
       "1506    50664.705882\n",
       "1558    55362.352941\n",
       "1559    54494.117647\n",
       "1624    50423.333333\n",
       "1695    50386.666667\n",
       "Name: Time of maximum wind gust, dtype: float64"
      ]
     },
     "execution_count": 59,
     "metadata": {},
     "output_type": "execute_result"
    }
   ],
   "source": [
    "cities.get_fake_values(\"Time of maximum wind gust\")"
   ]
  },
  {
   "cell_type": "code",
   "execution_count": null,
   "id": "221e222e",
   "metadata": {},
   "outputs": [],
   "source": []
  },
  {
   "cell_type": "code",
   "execution_count": null,
   "id": "974ca5fa",
   "metadata": {},
   "outputs": [],
   "source": []
  }
 ],
 "metadata": {
  "kernelspec": {
   "display_name": "Python 3 (ipykernel)",
   "language": "python",
   "name": "python3"
  },
  "language_info": {
   "codemirror_mode": {
    "name": "ipython",
    "version": 3
   },
   "file_extension": ".py",
   "mimetype": "text/x-python",
   "name": "python",
   "nbconvert_exporter": "python",
   "pygments_lexer": "ipython3",
   "version": "3.10.0"
  }
 },
 "nbformat": 4,
 "nbformat_minor": 5
}
