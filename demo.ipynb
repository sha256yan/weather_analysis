{
 "cells": [
  {
   "cell_type": "code",
   "execution_count": 1,
   "id": "af9e47f5",
   "metadata": {},
   "outputs": [],
   "source": [
    "from Series import Speed, Direction\n",
    "from Time import Hours\n",
    "from DataFrame import PriceDemand, Cities\n",
    "from config import COLUMNS\n",
    "\n",
    "import pandas as pd\n",
    "from datetime import date, datetime, time, timedelta\n",
    "import seaborn as sns\n",
    "from sklearn.preprocessing import MinMaxScaler, StandardScaler\n",
    "import numpy as np"
   ]
  },
  {
   "cell_type": "code",
   "execution_count": 2,
   "id": "99ffc106",
   "metadata": {},
   "outputs": [],
   "source": [
    "cities_df = Cities()\n",
    "price_df = PriceDemand()\n",
    "joined_df = cities_df.join_price(price_df.get_grouped())"
   ]
  },
  {
   "cell_type": "code",
   "execution_count": null,
   "id": "515d8c0d",
   "metadata": {},
   "outputs": [],
   "source": []
  },
  {
   "cell_type": "code",
   "execution_count": null,
   "id": "093ad662",
   "metadata": {},
   "outputs": [],
   "source": []
  },
  {
   "cell_type": "code",
   "execution_count": 3,
   "id": "5b6ce049",
   "metadata": {},
   "outputs": [
    {
     "data": {
      "text/plain": [
       "8927          0\n",
       "139497     3000\n",
       "139498     3300\n",
       "55514     36900\n",
       "71933     37800\n",
       "          ...  \n",
       "60924     18300\n",
       "89471     28800\n",
       "98111     28800\n",
       "59521     29400\n",
       "92946     34500\n",
       "Name: SETTLEMENTDATE, Length: 205, dtype: int64"
      ]
     },
     "execution_count": 3,
     "metadata": {},
     "output_type": "execute_result"
    }
   ],
   "source": [
    "from Time import Hours\n",
    "Hours(price_df[price_df[\"PRICESURGE\"]][\"SETTLEMENTDATE\"].apply(lambda stamp: f\"{stamp.hour}:{stamp.minute}:{stamp.second}\")).seconds_from_midnight()"
   ]
  },
  {
   "cell_type": "markdown",
   "id": "723ed773",
   "metadata": {},
   "source": [
    "price surge for one day\n",
    "price surge for 9am and 3pm seperately \n",
    "\n",
    "price_surge_score_3pm = for all price surges in that day, take sum(1 / | time of surge - 3pm | )\n",
    "\n",
    "\n",
    "fake_value_lookup = {\"Evaporation\" : [row_index1, row_index2, ... ]}\n",
    "\n",
    "testing correlations between features\n",
    "\n",
    "\n",
    "test correlation of features with a label \n",
    "\n",
    "\n",
    "1) process features, normalise, fill missing etc..\n",
    "\n",
    "2) test different approaches for choosing a label\n",
    "\n",
    "\n",
    "\n"
   ]
  },
  {
   "cell_type": "code",
   "execution_count": null,
   "id": "38f181aa",
   "metadata": {},
   "outputs": [],
   "source": []
  },
  {
   "cell_type": "code",
   "execution_count": null,
   "id": "eb61ee65",
   "metadata": {},
   "outputs": [],
   "source": []
  }
 ],
 "metadata": {
  "kernelspec": {
   "display_name": "Python 3 (ipykernel)",
   "language": "python",
   "name": "python3"
  },
  "language_info": {
   "codemirror_mode": {
    "name": "ipython",
    "version": 3
   },
   "file_extension": ".py",
   "mimetype": "text/x-python",
   "name": "python",
   "nbconvert_exporter": "python",
   "pygments_lexer": "ipython3",
   "version": "3.10.0"
  }
 },
 "nbformat": 4,
 "nbformat_minor": 5
}
